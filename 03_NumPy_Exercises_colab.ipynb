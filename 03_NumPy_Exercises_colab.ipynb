{
  "cells": [
    {
      "cell_type": "markdown",
      "metadata": {
        "id": "2tEaGxT4YQNb"
      },
      "source": [
        "___\n",
        "\n",
        "<a href='http://www.pieriandata.com'><img src='../Pierian_Data_Logo.png'/></a>\n",
        "___\n",
        "<center><em>Авторские права принадлежат Pierian Data</em></center>\n",
        "<center><em>Для дополнительной информации посетите наш сайт <a href='http://www.pieriandata.com'>www.pieriandata.com</a></em></center>"
      ]
    },
    {
      "cell_type": "markdown",
      "metadata": {
        "id": "CJ99Rsy5YQNi"
      },
      "source": [
        "# Упражнения по NumPy\n",
        "\n",
        "Давайте проверим Ваши знания NumPy. Мы начнём с достаточно простых задач, и плавно перейдём к более сложным.\n",
        "\n",
        "<div class=\"alert alert-danger\" style=\"margin: 10px\"><strong>ВАЖНОЕ ЗАМЕЧАНИЕ!</strong> Пожалуйста не запускайте ячейки, которые располагаются <br> непосредственно над ожидаемым результатом, иначе Вы удалите этот ожидаемый результат!</div>"
      ]
    },
    {
      "cell_type": "markdown",
      "metadata": {
        "id": "Bzqp4g0rYQNj"
      },
      "source": [
        "#### 1. Импортируйте NumPy as np"
      ]
    },
    {
      "cell_type": "code",
      "execution_count": 1,
      "metadata": {
        "collapsed": true,
        "id": "VZ4o0uYvYQNk"
      },
      "outputs": [],
      "source": [
        "import numpy as np"
      ]
    },
    {
      "cell_type": "markdown",
      "metadata": {
        "id": "bMokACgxYQNk"
      },
      "source": [
        "#### 2. Создайте массив из 10 нулей"
      ]
    },
    {
      "cell_type": "code",
      "execution_count": 2,
      "metadata": {
        "collapsed": true,
        "id": "-ktYnNYxYQNl"
      },
      "outputs": [],
      "source": [
        "# Напишите Ваше решение в этой ячейке\n",
        "z = np.zeros(10)"
      ]
    },
    {
      "cell_type": "code",
      "source": [
        "z"
      ],
      "metadata": {
        "colab": {
          "base_uri": "https://localhost:8080/"
        },
        "id": "u4gW2hjJYcCa",
        "outputId": "e44e8a7d-2019-445c-d194-d6afba5d314b"
      },
      "execution_count": 3,
      "outputs": [
        {
          "output_type": "execute_result",
          "data": {
            "text/plain": [
              "array([0., 0., 0., 0., 0., 0., 0., 0., 0., 0.])"
            ]
          },
          "metadata": {},
          "execution_count": 3
        }
      ]
    },
    {
      "cell_type": "code",
      "execution_count": null,
      "metadata": {
        "id": "1Vopf-RfYQNl",
        "outputId": "054aab2f-6ee8-4b2d-fc1b-dbbdb1a7130a"
      },
      "outputs": [
        {
          "data": {
            "text/plain": [
              "array([0., 0., 0., 0., 0., 0., 0., 0., 0., 0.])"
            ]
          },
          "execution_count": 2,
          "metadata": {},
          "output_type": "execute_result"
        }
      ],
      "source": [
        "# НЕ ПИШИТЕ В ЭТОЙ ЯЧЕЙКЕ\n"
      ]
    },
    {
      "cell_type": "markdown",
      "metadata": {
        "id": "FLMPhK3iYQNm"
      },
      "source": [
        "#### 3. Создайте массив из 10 единиц"
      ]
    },
    {
      "cell_type": "code",
      "execution_count": 4,
      "metadata": {
        "collapsed": true,
        "colab": {
          "base_uri": "https://localhost:8080/"
        },
        "id": "KpkvNjb7YQNm",
        "outputId": "96567ebf-c70e-4b96-ed71-ea9e267f95f9"
      },
      "outputs": [
        {
          "output_type": "execute_result",
          "data": {
            "text/plain": [
              "array([1., 1., 1., 1., 1., 1., 1., 1., 1., 1.])"
            ]
          },
          "metadata": {},
          "execution_count": 4
        }
      ],
      "source": [
        "# Напишите Ваше решение в этой ячейке\n",
        "one = np.ones(10)\n",
        "one"
      ]
    },
    {
      "cell_type": "code",
      "execution_count": null,
      "metadata": {
        "id": "Ql2ryhNPYQNn",
        "outputId": "516cb3ca-27d2-4d87-951f-c4ac1c989475"
      },
      "outputs": [
        {
          "data": {
            "text/plain": [
              "array([1., 1., 1., 1., 1., 1., 1., 1., 1., 1.])"
            ]
          },
          "execution_count": 3,
          "metadata": {},
          "output_type": "execute_result"
        }
      ],
      "source": [
        "# НЕ ПИШИТЕ В ЭТОЙ ЯЧЕЙКЕ\n"
      ]
    },
    {
      "cell_type": "markdown",
      "metadata": {
        "id": "JWGMoHoaYQNn"
      },
      "source": [
        "#### 4. Создайте массив из 10 пятёрок"
      ]
    },
    {
      "cell_type": "code",
      "execution_count": 6,
      "metadata": {
        "collapsed": true,
        "colab": {
          "base_uri": "https://localhost:8080/"
        },
        "id": "ckB51KjjYQNn",
        "outputId": "e432fd03-f488-4d86-d88c-a79562e38d2e"
      },
      "outputs": [
        {
          "output_type": "execute_result",
          "data": {
            "text/plain": [
              "array([5, 5, 5, 5, 5, 5, 5, 5, 5, 5])"
            ]
          },
          "metadata": {},
          "execution_count": 6
        }
      ],
      "source": [
        "# Напишите Ваше решение в этой ячейке\n",
        "fives = np.full(10,5)\n",
        "fives"
      ]
    },
    {
      "cell_type": "code",
      "execution_count": null,
      "metadata": {
        "id": "J5Zx6EVBYQNn",
        "outputId": "85dcbe4e-1ebc-493f-f931-989b5ed09434"
      },
      "outputs": [
        {
          "data": {
            "text/plain": [
              "array([5., 5., 5., 5., 5., 5., 5., 5., 5., 5.])"
            ]
          },
          "execution_count": 4,
          "metadata": {},
          "output_type": "execute_result"
        }
      ],
      "source": [
        "# НЕ ПИШИТЕ В ЭТОЙ ЯЧЕЙКЕ\n"
      ]
    },
    {
      "cell_type": "markdown",
      "metadata": {
        "id": "TWAWhlJsYQNo"
      },
      "source": [
        "#### 5. Создайте массив целых чисел от 10 до 50 включительно"
      ]
    },
    {
      "cell_type": "code",
      "execution_count": 8,
      "metadata": {
        "collapsed": true,
        "colab": {
          "base_uri": "https://localhost:8080/"
        },
        "id": "_d4tqs0qYQNo",
        "outputId": "206c532f-e3da-4bd6-c51a-709f3eded20d"
      },
      "outputs": [
        {
          "output_type": "execute_result",
          "data": {
            "text/plain": [
              "array([10, 11, 12, 13, 14, 15, 16, 17, 18, 19, 20, 21, 22, 23, 24, 25, 26,\n",
              "       27, 28, 29, 30, 31, 32, 33, 34, 35, 36, 37, 38, 39, 40, 41, 42, 43,\n",
              "       44, 45, 46, 47, 48, 49, 50])"
            ]
          },
          "metadata": {},
          "execution_count": 8
        }
      ],
      "source": [
        "# Напишите Ваше решение в этой ячейке\n",
        "ar1 = np.arange(10,51)\n",
        "ar1"
      ]
    },
    {
      "cell_type": "code",
      "execution_count": null,
      "metadata": {
        "id": "984JFQNXYQNo",
        "outputId": "61499694-1bf3-4345-fd76-4cf11875805f"
      },
      "outputs": [
        {
          "data": {
            "text/plain": [
              "array([10, 11, 12, 13, 14, 15, 16, 17, 18, 19, 20, 21, 22, 23, 24, 25, 26,\n",
              "       27, 28, 29, 30, 31, 32, 33, 34, 35, 36, 37, 38, 39, 40, 41, 42, 43,\n",
              "       44, 45, 46, 47, 48, 49, 50])"
            ]
          },
          "execution_count": 5,
          "metadata": {},
          "output_type": "execute_result"
        }
      ],
      "source": [
        "# НЕ ПИШИТЕ В ЭТОЙ ЯЧЕЙКЕ\n"
      ]
    },
    {
      "cell_type": "markdown",
      "metadata": {
        "id": "HCtfuNDcYQNo"
      },
      "source": [
        "#### 6. Создайте массив всех чётных чисел от 10 до 50 включительно"
      ]
    },
    {
      "cell_type": "code",
      "execution_count": 9,
      "metadata": {
        "collapsed": true,
        "colab": {
          "base_uri": "https://localhost:8080/"
        },
        "id": "bhi2frFZYQNp",
        "outputId": "e0e17a3c-12c2-4629-8683-c1d9a5cd1023"
      },
      "outputs": [
        {
          "output_type": "execute_result",
          "data": {
            "text/plain": [
              "array([10, 12, 14, 16, 18, 20, 22, 24, 26, 28, 30, 32, 34, 36, 38, 40, 42,\n",
              "       44, 46, 48, 50])"
            ]
          },
          "metadata": {},
          "execution_count": 9
        }
      ],
      "source": [
        "# Напишите Ваше решение в этой ячейке\n",
        "ar2 = np.arange(10,51,2)\n",
        "ar2"
      ]
    },
    {
      "cell_type": "code",
      "execution_count": null,
      "metadata": {
        "id": "lFxHijFvYQNp",
        "outputId": "bafa141a-467f-4457-b776-efcec1018154"
      },
      "outputs": [
        {
          "data": {
            "text/plain": [
              "array([10, 12, 14, 16, 18, 20, 22, 24, 26, 28, 30, 32, 34, 36, 38, 40, 42,\n",
              "       44, 46, 48, 50])"
            ]
          },
          "execution_count": 6,
          "metadata": {},
          "output_type": "execute_result"
        }
      ],
      "source": [
        "# НЕ ПИШИТЕ В ЭТОЙ ЯЧЕЙКЕ\n"
      ]
    },
    {
      "cell_type": "markdown",
      "metadata": {
        "id": "W77uFyv2YQNp"
      },
      "source": [
        "#### 7. Создайте матрицу 3x3 со значениями от 0 до 8 включительно"
      ]
    },
    {
      "cell_type": "code",
      "source": [
        "linsp = np.linspace(1,10,10)\n",
        "linsp\n",
        "# верхний диапазон включён "
      ],
      "metadata": {
        "colab": {
          "base_uri": "https://localhost:8080/"
        },
        "id": "8nNOtAQyZcBw",
        "outputId": "8aa71ecd-58a4-4735-8888-d8c24082b3a6"
      },
      "execution_count": 14,
      "outputs": [
        {
          "output_type": "execute_result",
          "data": {
            "text/plain": [
              "array([ 1.,  2.,  3.,  4.,  5.,  6.,  7.,  8.,  9., 10.])"
            ]
          },
          "metadata": {},
          "execution_count": 14
        }
      ]
    },
    {
      "cell_type": "code",
      "source": [
        "np.eye(5)"
      ],
      "metadata": {
        "colab": {
          "base_uri": "https://localhost:8080/"
        },
        "id": "e71aoNuiZwR8",
        "outputId": "bd3faa08-2ba1-44d8-e565-e62e2f634d45"
      },
      "execution_count": 15,
      "outputs": [
        {
          "output_type": "execute_result",
          "data": {
            "text/plain": [
              "array([[1., 0., 0., 0., 0.],\n",
              "       [0., 1., 0., 0., 0.],\n",
              "       [0., 0., 1., 0., 0.],\n",
              "       [0., 0., 0., 1., 0.],\n",
              "       [0., 0., 0., 0., 1.]])"
            ]
          },
          "metadata": {},
          "execution_count": 15
        }
      ]
    },
    {
      "cell_type": "code",
      "execution_count": 23,
      "metadata": {
        "collapsed": true,
        "colab": {
          "base_uri": "https://localhost:8080/"
        },
        "id": "DdIj4eBOYQNq",
        "outputId": "960c221c-70d2-4d71-cd4c-76acfae5b25c"
      },
      "outputs": [
        {
          "output_type": "execute_result",
          "data": {
            "text/plain": [
              "array([[0, 3, 6],\n",
              "       [1, 4, 7],\n",
              "       [2, 5, 8]])"
            ]
          },
          "metadata": {},
          "execution_count": 23
        }
      ],
      "source": [
        "# Напишите Ваше решение в этой ячейке\n",
        "matrix_3_3 = np.arange(9).reshape(3,3).T\n",
        "matrix_3_3"
      ]
    },
    {
      "cell_type": "code",
      "execution_count": 11,
      "metadata": {
        "id": "Qux3_CznYQNq"
      },
      "outputs": [],
      "source": [
        "# НЕ ПИШИТЕ В ЭТОЙ ЯЧЕЙКЕ\n"
      ]
    },
    {
      "cell_type": "markdown",
      "metadata": {
        "id": "THZblTadYQNq"
      },
      "source": [
        "#### 8. Создайте единичную матрицу размером 3x3"
      ]
    },
    {
      "cell_type": "code",
      "execution_count": 25,
      "metadata": {
        "collapsed": true,
        "colab": {
          "base_uri": "https://localhost:8080/"
        },
        "id": "VBRZWDp1YQNq",
        "outputId": "7dcb5195-359c-497d-ac2e-0a5361f42e05"
      },
      "outputs": [
        {
          "output_type": "execute_result",
          "data": {
            "text/plain": [
              "array([[1., 1., 1.],\n",
              "       [1., 1., 1.],\n",
              "       [1., 1., 1.]])"
            ]
          },
          "metadata": {},
          "execution_count": 25
        }
      ],
      "source": [
        "# Напишите Ваше решение в этой ячейке\n",
        "matrix_one_3_3 = np.ones(9).reshape(3,3)\n",
        "matrix_one_3_3"
      ]
    },
    {
      "cell_type": "code",
      "execution_count": 26,
      "metadata": {
        "id": "omTSapdNYQNr"
      },
      "outputs": [],
      "source": [
        "# НЕ ПИШИТЕ В ЭТОЙ ЯЧЕЙКЕ\n"
      ]
    },
    {
      "cell_type": "markdown",
      "metadata": {
        "id": "rVhK9p9qYQNr"
      },
      "source": [
        "#### 9. С помощью NumPy сгенерируйте случайное число в диапазоне от 0 до 1<br><br>&emsp;Замечание: Ваш результат может отличаться от того, что указано в качестве примера ниже."
      ]
    },
    {
      "cell_type": "code",
      "execution_count": 31,
      "metadata": {
        "collapsed": true,
        "colab": {
          "base_uri": "https://localhost:8080/"
        },
        "id": "4z94ZStcYQNr",
        "outputId": "5ade6c49-a139-417f-9536-8fd5c9d04f94"
      },
      "outputs": [
        {
          "output_type": "execute_result",
          "data": {
            "text/plain": [
              "array([[0.59522144, 0.1743633 , 0.27871962],\n",
              "       [0.46207899, 0.05500698, 0.6308878 ]])"
            ]
          },
          "metadata": {},
          "execution_count": 31
        }
      ],
      "source": [
        "# Напишите Ваше решение в этой ячейке\n",
        "np.random.rand(2,3)"
      ]
    },
    {
      "cell_type": "code",
      "execution_count": null,
      "metadata": {
        "id": "dGpmrQC1YQNr",
        "outputId": "b3e2ab8c-f78c-40bb-856e-b8a47cf0f6bb"
      },
      "outputs": [
        {
          "data": {
            "text/plain": [
              "array([0.65248055])"
            ]
          },
          "execution_count": 9,
          "metadata": {},
          "output_type": "execute_result"
        }
      ],
      "source": [
        "# НЕ ПИШИТЕ В ЭТОЙ ЯЧЕЙКЕ\n"
      ]
    },
    {
      "cell_type": "markdown",
      "metadata": {
        "id": "9hkowexdYQNr"
      },
      "source": [
        "#### 10. С помощью NumPy сгенерируйте массив из 25 случайных чисел, выбранных из стандартного нормального распределения<br><br>&emsp;&ensp;Замечание: Ваш результат может отличаться от того, что указано в качестве примера ниже."
      ]
    },
    {
      "cell_type": "code",
      "execution_count": 47,
      "metadata": {
        "collapsed": true,
        "colab": {
          "base_uri": "https://localhost:8080/",
          "height": 265
        },
        "id": "dt383wwuYQNs",
        "outputId": "50ecbf1f-8f49-4da4-a53e-71690c231c86"
      },
      "outputs": [
        {
          "output_type": "display_data",
          "data": {
            "text/plain": [
              "<Figure size 432x288 with 1 Axes>"
            ],
            "image/png": "[encoded data removed]"
          },
          "metadata": {
            "needs_background": "light"
          }
        }
      ],
      "source": [
        "# Напишите Ваше решение в этой ячейке\n",
        "import matplotlib.pyplot as plt\n",
        "\n",
        "plt.hist(np.random.randn(500))\n",
        "plt.show()"
      ]
    },
    {
      "cell_type": "code",
      "execution_count": null,
      "metadata": {
        "id": "NRtQqIGeYQNs",
        "outputId": "3e8cc07f-d9c0-4b96-8a6d-cb407b573b14"
      },
      "outputs": [
        {
          "data": {
            "text/plain": [
              "array([ 1.80076712, -1.12375847, -0.98524305,  0.11673573,  1.96346762,\n",
              "        1.81378592, -0.33790771,  0.85012656,  0.0100703 , -0.91005957,\n",
              "        0.29064366,  0.69906357,  0.1774377 , -0.61958694, -0.45498611,\n",
              "       -2.0804685 , -0.06778549,  1.06403819,  0.4311884 , -1.09853837,\n",
              "        1.11980469, -0.48751963,  1.32517611, -0.61775122, -0.00622865])"
            ]
          },
          "execution_count": 10,
          "metadata": {},
          "output_type": "execute_result"
        }
      ],
      "source": [
        "# НЕ ПИШИТЕ В ЭТОЙ ЯЧЕЙКЕ\n"
      ]
    },
    {
      "cell_type": "markdown",
      "metadata": {
        "id": "f05kmMODYQNs"
      },
      "source": [
        "#### 11. Создайте указанную ниже матрицу:"
      ]
    },
    {
      "cell_type": "code",
      "execution_count": 50,
      "metadata": {
        "collapsed": true,
        "colab": {
          "base_uri": "https://localhost:8080/"
        },
        "id": "Iv1M6aDoYQNs",
        "outputId": "9a15ee7d-82ad-4735-a9fb-f03d82e06816"
      },
      "outputs": [
        {
          "output_type": "execute_result",
          "data": {
            "text/plain": [
              "array([[0.01, 0.02, 0.03, 0.04, 0.05, 0.06, 0.07, 0.08, 0.09, 0.1 ],\n",
              "       [0.11, 0.12, 0.13, 0.14, 0.15, 0.16, 0.17, 0.18, 0.19, 0.2 ],\n",
              "       [0.21, 0.22, 0.23, 0.24, 0.25, 0.26, 0.27, 0.28, 0.29, 0.3 ],\n",
              "       [0.31, 0.32, 0.33, 0.34, 0.35, 0.36, 0.37, 0.38, 0.39, 0.4 ],\n",
              "       [0.41, 0.42, 0.43, 0.44, 0.45, 0.46, 0.47, 0.48, 0.49, 0.5 ],\n",
              "       [0.51, 0.52, 0.53, 0.54, 0.55, 0.56, 0.57, 0.58, 0.59, 0.6 ],\n",
              "       [0.61, 0.62, 0.63, 0.64, 0.65, 0.66, 0.67, 0.68, 0.69, 0.7 ],\n",
              "       [0.71, 0.72, 0.73, 0.74, 0.75, 0.76, 0.77, 0.78, 0.79, 0.8 ],\n",
              "       [0.81, 0.82, 0.83, 0.84, 0.85, 0.86, 0.87, 0.88, 0.89, 0.9 ],\n",
              "       [0.91, 0.92, 0.93, 0.94, 0.95, 0.96, 0.97, 0.98, 0.99, 1.  ]])"
            ]
          },
          "metadata": {},
          "execution_count": 50
        }
      ],
      "source": [
        "# Напишите Ваше решение в этой ячейке\n",
        "np.arange(0.01, 1.01, 0.01).reshape(10,10)"
      ]
    },
    {
      "cell_type": "code",
      "execution_count": null,
      "metadata": {
        "id": "sujv0z63YQNs",
        "outputId": "e63d26e9-1e58-4e6e-940d-2efdfc10be11"
      },
      "outputs": [
        {
          "data": {
            "text/plain": [
              "array([[0.01, 0.02, 0.03, 0.04, 0.05, 0.06, 0.07, 0.08, 0.09, 0.1 ],\n",
              "       [0.11, 0.12, 0.13, 0.14, 0.15, 0.16, 0.17, 0.18, 0.19, 0.2 ],\n",
              "       [0.21, 0.22, 0.23, 0.24, 0.25, 0.26, 0.27, 0.28, 0.29, 0.3 ],\n",
              "       [0.31, 0.32, 0.33, 0.34, 0.35, 0.36, 0.37, 0.38, 0.39, 0.4 ],\n",
              "       [0.41, 0.42, 0.43, 0.44, 0.45, 0.46, 0.47, 0.48, 0.49, 0.5 ],\n",
              "       [0.51, 0.52, 0.53, 0.54, 0.55, 0.56, 0.57, 0.58, 0.59, 0.6 ],\n",
              "       [0.61, 0.62, 0.63, 0.64, 0.65, 0.66, 0.67, 0.68, 0.69, 0.7 ],\n",
              "       [0.71, 0.72, 0.73, 0.74, 0.75, 0.76, 0.77, 0.78, 0.79, 0.8 ],\n",
              "       [0.81, 0.82, 0.83, 0.84, 0.85, 0.86, 0.87, 0.88, 0.89, 0.9 ],\n",
              "       [0.91, 0.92, 0.93, 0.94, 0.95, 0.96, 0.97, 0.98, 0.99, 1.  ]])"
            ]
          },
          "execution_count": 11,
          "metadata": {},
          "output_type": "execute_result"
        }
      ],
      "source": [
        "# НЕ ПИШИТЕ В ЭТОЙ ЯЧЕЙКЕ\n"
      ]
    },
    {
      "cell_type": "markdown",
      "metadata": {
        "id": "D9eQzlYIYQNt"
      },
      "source": [
        "#### 12. Создайте массив из 20 равноудалённых друг от друга точек между 0 и 1:"
      ]
    },
    {
      "cell_type": "code",
      "execution_count": 56,
      "metadata": {
        "collapsed": true,
        "colab": {
          "base_uri": "https://localhost:8080/"
        },
        "id": "62x72w_EYQNt",
        "outputId": "3c057034-4837-4f79-b26e-27f5e4f9aca1"
      },
      "outputs": [
        {
          "output_type": "execute_result",
          "data": {
            "text/plain": [
              "array([0.  , 0.05, 0.1 , 0.15, 0.2 , 0.25, 0.3 , 0.35, 0.4 , 0.45, 0.5 ,\n",
              "       0.55, 0.6 , 0.65, 0.7 , 0.75, 0.8 , 0.85, 0.9 , 0.95, 1.  ])"
            ]
          },
          "metadata": {},
          "execution_count": 56
        }
      ],
      "source": [
        "# Напишите Ваше решение в этой ячейке\n",
        "step = 1/20\n",
        "np.arange(0, 1.01, step)"
      ]
    },
    {
      "cell_type": "code",
      "execution_count": null,
      "metadata": {
        "id": "UuGhUnPSYQNt",
        "outputId": "b208bb0f-ba4e-47f0-90dc-ae240318a1f5"
      },
      "outputs": [
        {
          "data": {
            "text/plain": [
              "array([0.        , 0.05263158, 0.10526316, 0.15789474, 0.21052632,\n",
              "       0.26315789, 0.31578947, 0.36842105, 0.42105263, 0.47368421,\n",
              "       0.52631579, 0.57894737, 0.63157895, 0.68421053, 0.73684211,\n",
              "       0.78947368, 0.84210526, 0.89473684, 0.94736842, 1.        ])"
            ]
          },
          "execution_count": 12,
          "metadata": {},
          "output_type": "execute_result"
        }
      ],
      "source": [
        "# НЕ ПИШИТЕ В ЭТОЙ ЯЧЕЙКЕ\n"
      ]
    },
    {
      "cell_type": "markdown",
      "metadata": {
        "id": "lRjHgHy_YQNt"
      },
      "source": [
        "## Индексация Numpy\n",
        "\n",
        "Здесь Вы будете работать с некоторой матрицей - чтобы создать её, запустите следующую ячейку! После этого мы попросим Вас воспроизвести несколько результатов работы с этой матрицей:"
      ]
    },
    {
      "cell_type": "code",
      "source": [
        "l = np.array([1,2,3,4,5,6,7])\n",
        "l[:3] = 200"
      ],
      "metadata": {
        "id": "xhwI_L_MfbTZ"
      },
      "execution_count": 58,
      "outputs": []
    },
    {
      "cell_type": "code",
      "execution_count": 59,
      "metadata": {
        "colab": {
          "base_uri": "https://localhost:8080/"
        },
        "id": "CPcBFJTNYQNt",
        "outputId": "d729a775-2e18-40ce-a576-4bb2c48591cc"
      },
      "outputs": [
        {
          "output_type": "execute_result",
          "data": {
            "text/plain": [
              "array([[ 1,  2,  3,  4,  5],\n",
              "       [ 6,  7,  8,  9, 10],\n",
              "       [11, 12, 13, 14, 15],\n",
              "       [16, 17, 18, 19, 20],\n",
              "       [21, 22, 23, 24, 25]])"
            ]
          },
          "metadata": {},
          "execution_count": 59
        }
      ],
      "source": [
        "# ЗАПУСТИТЕ ЭТУ ЯЧЕЙКУ - ЭТО СОЗДАНИЕ МАТРИЦЫ ДЛЯ СЛЕДУЮЩИХ ЗАДАНИЙ\n",
        "mat = np.arange(1,26).reshape(5,5)\n",
        "mat"
      ]
    },
    {
      "cell_type": "markdown",
      "metadata": {
        "id": "NjCzXI1aYQNu"
      },
      "source": [
        "#### 13. Напишите код, который на основе матрицы mat выведет указанную ниже матрицу (подсказка - используйте индексацию)."
      ]
    },
    {
      "cell_type": "code",
      "execution_count": 60,
      "metadata": {
        "collapsed": true,
        "colab": {
          "base_uri": "https://localhost:8080/"
        },
        "id": "_Qr4iY5CYQNu",
        "outputId": "c63bc537-4456-4042-c026-8dce6d855267"
      },
      "outputs": [
        {
          "output_type": "execute_result",
          "data": {
            "text/plain": [
              "array([[12, 13, 14, 15],\n",
              "       [17, 18, 19, 20],\n",
              "       [22, 23, 24, 25]])"
            ]
          },
          "metadata": {},
          "execution_count": 60
        }
      ],
      "source": [
        "# Напишите Ваше решение в этой ячейке\n",
        "mat[2:,1:]"
      ]
    },
    {
      "cell_type": "code",
      "execution_count": null,
      "metadata": {
        "id": "aXpHZyAOYQNu",
        "outputId": "19bdbd76-a922-4991-88de-fa21c936a498"
      },
      "outputs": [
        {
          "data": {
            "text/plain": [
              "array([[12, 13, 14, 15],\n",
              "       [17, 18, 19, 20],\n",
              "       [22, 23, 24, 25]])"
            ]
          },
          "execution_count": 14,
          "metadata": {},
          "output_type": "execute_result"
        }
      ],
      "source": [
        "# НЕ ПИШИТЕ В ЭТОЙ ЯЧЕЙКЕ\n"
      ]
    },
    {
      "cell_type": "markdown",
      "metadata": {
        "id": "EOtzxyzeYQNu"
      },
      "source": [
        "#### 14. Напишите код, который на основе матрицы mat выведет указанную ниже матрицу."
      ]
    },
    {
      "cell_type": "code",
      "execution_count": 61,
      "metadata": {
        "collapsed": true,
        "colab": {
          "base_uri": "https://localhost:8080/"
        },
        "id": "pVTbea0UYQNu",
        "outputId": "3fb16db0-55e1-44a8-e039-61627a06317d"
      },
      "outputs": [
        {
          "output_type": "execute_result",
          "data": {
            "text/plain": [
              "20"
            ]
          },
          "metadata": {},
          "execution_count": 61
        }
      ],
      "source": [
        "# Напишите Ваше решение в этой ячейке\n",
        "mat[3,-1]"
      ]
    },
    {
      "cell_type": "code",
      "execution_count": null,
      "metadata": {
        "id": "zIhMn-KOYQNu",
        "outputId": "681a3a6a-25c7-4f22-96df-753d5a61efbd"
      },
      "outputs": [
        {
          "data": {
            "text/plain": [
              "20"
            ]
          },
          "execution_count": 15,
          "metadata": {},
          "output_type": "execute_result"
        }
      ],
      "source": [
        "# НЕ ПИШИТЕ В ЭТОЙ ЯЧЕЙКЕ\n"
      ]
    },
    {
      "cell_type": "markdown",
      "metadata": {
        "id": "9DwIClrQYQNv"
      },
      "source": [
        "#### 15. Напишите код, который на основе матрицы mat выведет указанную ниже матрицу."
      ]
    },
    {
      "cell_type": "code",
      "execution_count": 66,
      "metadata": {
        "collapsed": true,
        "colab": {
          "base_uri": "https://localhost:8080/"
        },
        "id": "rGdrAMNyYQNv",
        "outputId": "d834d6fb-4271-4183-af8b-544cefd3ba73"
      },
      "outputs": [
        {
          "output_type": "execute_result",
          "data": {
            "text/plain": [
              "array([[ 2],\n",
              "       [ 7],\n",
              "       [12]])"
            ]
          },
          "metadata": {},
          "execution_count": 66
        }
      ],
      "source": [
        "# Напишите Ваше решение в этой ячейке\n",
        "mat[:3,1:2]"
      ]
    },
    {
      "cell_type": "code",
      "execution_count": null,
      "metadata": {
        "id": "1H2AD9MaYQNv",
        "outputId": "92f603a1-a9be-4fb7-a2f6-d4535131f2d3"
      },
      "outputs": [
        {
          "data": {
            "text/plain": [
              "array([[ 2],\n",
              "       [ 7],\n",
              "       [12]])"
            ]
          },
          "execution_count": 16,
          "metadata": {},
          "output_type": "execute_result"
        }
      ],
      "source": [
        "# НЕ ПИШИТЕ В ЭТОЙ ЯЧЕЙКЕ\n"
      ]
    },
    {
      "cell_type": "markdown",
      "metadata": {
        "id": "RERxOeJjYQNv"
      },
      "source": [
        "#### 16. Напишите код, который на основе матрицы mat выведет указанную ниже матрицу."
      ]
    },
    {
      "cell_type": "code",
      "execution_count": 63,
      "metadata": {
        "collapsed": true,
        "colab": {
          "base_uri": "https://localhost:8080/"
        },
        "id": "rULEgGU3YQNv",
        "outputId": "98afd934-8149-446c-915a-9d2085c0eaf6"
      },
      "outputs": [
        {
          "output_type": "execute_result",
          "data": {
            "text/plain": [
              "array([21, 22, 23, 24, 25])"
            ]
          },
          "metadata": {},
          "execution_count": 63
        }
      ],
      "source": [
        "# Напишите Ваше решение в этой ячейке\n",
        "mat[-1,:]"
      ]
    },
    {
      "cell_type": "code",
      "execution_count": null,
      "metadata": {
        "id": "ppVQ71r9YQNw",
        "outputId": "980ec4a2-4919-4811-8c26-2a06774e4c2f"
      },
      "outputs": [
        {
          "data": {
            "text/plain": [
              "array([21, 22, 23, 24, 25])"
            ]
          },
          "execution_count": 17,
          "metadata": {},
          "output_type": "execute_result"
        }
      ],
      "source": [
        "# НЕ ПИШИТЕ В ЭТОЙ ЯЧЕЙКЕ\n"
      ]
    },
    {
      "cell_type": "markdown",
      "metadata": {
        "id": "goyS3z8LYQNw"
      },
      "source": [
        "#### 17. Напишите код, который на основе матрицы mat выведет указанную ниже матрицу."
      ]
    },
    {
      "cell_type": "code",
      "execution_count": 64,
      "metadata": {
        "collapsed": true,
        "colab": {
          "base_uri": "https://localhost:8080/"
        },
        "id": "PJZn_7LJYQNw",
        "outputId": "b618dcef-b2d8-4dad-c69e-bca20cf05372"
      },
      "outputs": [
        {
          "output_type": "execute_result",
          "data": {
            "text/plain": [
              "array([[16, 17, 18, 19, 20],\n",
              "       [21, 22, 23, 24, 25]])"
            ]
          },
          "metadata": {},
          "execution_count": 64
        }
      ],
      "source": [
        "# Напишите Ваше решение в этой ячейке\n",
        "mat[3:,]"
      ]
    },
    {
      "cell_type": "code",
      "execution_count": null,
      "metadata": {
        "id": "d7f5coHlYQNw",
        "outputId": "799a3d63-49ea-4f7f-c7f0-ca6997bacf90"
      },
      "outputs": [
        {
          "data": {
            "text/plain": [
              "array([[16, 17, 18, 19, 20],\n",
              "       [21, 22, 23, 24, 25]])"
            ]
          },
          "execution_count": 18,
          "metadata": {},
          "output_type": "execute_result"
        }
      ],
      "source": [
        "# НЕ ПИШИТЕ В ЭТОЙ ЯЧЕЙКЕ\n"
      ]
    },
    {
      "cell_type": "markdown",
      "metadata": {
        "id": "9E7uOnl6YQNw"
      },
      "source": [
        "## Операции в NumPy"
      ]
    },
    {
      "cell_type": "markdown",
      "metadata": {
        "id": "N9e34LiYYQNw"
      },
      "source": [
        "#### 18. Найдите сумму всех чисел в матрице mat"
      ]
    },
    {
      "cell_type": "code",
      "execution_count": 67,
      "metadata": {
        "collapsed": true,
        "colab": {
          "base_uri": "https://localhost:8080/"
        },
        "id": "rB3xuk8hYQNw",
        "outputId": "2da58629-cb78-448c-8609-5d4f6ab27ac9"
      },
      "outputs": [
        {
          "output_type": "execute_result",
          "data": {
            "text/plain": [
              "325"
            ]
          },
          "metadata": {},
          "execution_count": 67
        }
      ],
      "source": [
        "# Напишите Ваше решение в этой ячейке\n",
        "mat.sum()"
      ]
    },
    {
      "cell_type": "code",
      "execution_count": null,
      "metadata": {
        "id": "-oB4OS0eYQNx",
        "outputId": "9675111e-375d-48f0-b128-192ac4355530"
      },
      "outputs": [
        {
          "data": {
            "text/plain": [
              "325"
            ]
          },
          "execution_count": 19,
          "metadata": {},
          "output_type": "execute_result"
        }
      ],
      "source": [
        "# НЕ ПИШИТЕ В ЭТОЙ ЯЧЕЙКЕ\n"
      ]
    },
    {
      "cell_type": "markdown",
      "metadata": {
        "id": "bon3zmaUYQNx"
      },
      "source": [
        "#### 19. Найдите среднеквадратичное отклонение значений в матрице mat"
      ]
    },
    {
      "cell_type": "code",
      "execution_count": 68,
      "metadata": {
        "collapsed": true,
        "colab": {
          "base_uri": "https://localhost:8080/"
        },
        "id": "iLeTA_zFYQNx",
        "outputId": "384cb225-2369-44ef-b62d-f3d7a34763d0"
      },
      "outputs": [
        {
          "output_type": "execute_result",
          "data": {
            "text/plain": [
              "7.211102550927978"
            ]
          },
          "metadata": {},
          "execution_count": 68
        }
      ],
      "source": [
        "# Напишите Ваше решение в этой ячейке\n",
        "mat.std()"
      ]
    },
    {
      "cell_type": "code",
      "execution_count": null,
      "metadata": {
        "id": "pKzyf6NIYQNx",
        "outputId": "f3a3d6ec-1030-42a0-cb79-be76de089269"
      },
      "outputs": [
        {
          "data": {
            "text/plain": [
              "7.211102550927978"
            ]
          },
          "execution_count": 20,
          "metadata": {},
          "output_type": "execute_result"
        }
      ],
      "source": [
        "# НЕ ПИШИТЕ В ЭТОЙ ЯЧЕЙКЕ\n"
      ]
    },
    {
      "cell_type": "markdown",
      "metadata": {
        "id": "AIvTJfNVYQNx"
      },
      "source": [
        "#### 20. Найдите сумму каждой из колонок в матрице mat"
      ]
    },
    {
      "cell_type": "code",
      "execution_count": 70,
      "metadata": {
        "collapsed": true,
        "colab": {
          "base_uri": "https://localhost:8080/"
        },
        "id": "3krT6vLVYQNx",
        "outputId": "2127888b-f2ea-4f57-aae2-ffcac3ce4b5e"
      },
      "outputs": [
        {
          "output_type": "execute_result",
          "data": {
            "text/plain": [
              "array([55, 60, 65, 70, 75])"
            ]
          },
          "metadata": {},
          "execution_count": 70
        }
      ],
      "source": [
        "# Напишите Ваше решение в этой ячейке\n",
        "mat.sum(axis=0)"
      ]
    },
    {
      "cell_type": "code",
      "execution_count": null,
      "metadata": {
        "id": "Dfc0zj-CYQNy",
        "outputId": "437675d7-73dc-460d-9b8a-ae85132c2b4f"
      },
      "outputs": [
        {
          "data": {
            "text/plain": [
              "array([55, 60, 65, 70, 75])"
            ]
          },
          "execution_count": 21,
          "metadata": {},
          "output_type": "execute_result"
        }
      ],
      "source": [
        "# НЕ ПИШИТЕ В ЭТОЙ ЯЧЕЙКЕ\n"
      ]
    },
    {
      "cell_type": "markdown",
      "metadata": {
        "id": "rIEe3HYMYQNy"
      },
      "source": [
        "## Бонусный вопрос\n",
        "\n",
        "Мы много работали со случайными данными в numpy, но есть ли способ каждый раз получать одни и те же \"случайные\" результаты? [Для подсказки нажмите здесь](https://www.google.com/search?q=numpy+random+seed&rlz=1C1CHBF_enUS747US747&oq=numpy+random+seed&aqs=chrome..69i57j69i60j0l4.2087j0j7&sourceid=chrome&ie=UTF-8)"
      ]
    },
    {
      "cell_type": "code",
      "execution_count": null,
      "metadata": {
        "collapsed": true,
        "id": "Q3gyQycGYQNy"
      },
      "outputs": [],
      "source": [
        "# Напишите Ваше решение в этой ячейке\n",
        "np.random.seed(42)"
      ]
    },
    {
      "cell_type": "markdown",
      "metadata": {
        "collapsed": true,
        "id": "4xNuJrnCYQNy"
      },
      "source": [
        "# Отличная работа!"
      ]
    },
    {
      "cell_type": "code",
      "execution_count": null,
      "metadata": {
        "id": "s8aULrxKYQNy"
      },
      "outputs": [],
      "source": [
        ""
      ]
    }
  ],
  "metadata": {
    "anaconda-cloud": {},
    "kernelspec": {
      "display_name": "Python 3",
      "language": "python",
      "name": "python3"
    },
    "language_info": {
      "codemirror_mode": {
        "name": "ipython",
        "version": 3
      },
      "file_extension": ".py",
      "mimetype": "text/x-python",
      "name": "python",
      "nbconvert_exporter": "python",
      "pygments_lexer": "ipython3",
      "version": "3.8.5"
    },
    "colab": {
      "name": "03-NumPy-Exercises.ipynb",
      "provenance": [],
      "collapsed_sections": []
    }
  },
  "nbformat": 4,
  "nbformat_minor": 0
}